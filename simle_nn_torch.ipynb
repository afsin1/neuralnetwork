{
 "cells": [
  {
   "cell_type": "code",
   "execution_count": 4,
   "id": "883b6f63-4c72-45d2-a04a-550faaaf9bad",
   "metadata": {},
   "outputs": [],
   "source": [
    "import torch\n",
    "import torch.nn as nn\n",
    "import torch.optim as optim\n",
    "import torchvision\n",
    "import torchvision.transforms as transforms"
   ]
  },
  {
   "cell_type": "code",
   "execution_count": 6,
   "id": "482892a7-74d8-43f0-a04c-8af72c87f8ff",
   "metadata": {},
   "outputs": [],
   "source": [
    "# Define the neural network architecture\n",
    "class SimpleNN(nn.Module):\n",
    "    def __init__(self):\n",
    "        super(SimpleNN, self).__init__()\n",
    "        self.fc1 = nn.Linear(784, 64)  # Input layer with 64 neurons\n",
    "        self.fc2 = nn.Linear(64, 64)   # Hidden layer with 64 neurons\n",
    "        self.fc3 = nn.Linear(64, 10)   # Output layer with 10 neurons (for 10 classes)\n",
    "\n",
    "    def forward(self, x):\n",
    "        x = torch.relu(self.fc1(x))   # ReLU activation for the first layer\n",
    "        x = torch.relu(self.fc2(x))   # ReLU activation for the second layer\n",
    "        x = self.fc3(x)               # No activation for the output layer\n",
    "        return x"
   ]
  },
  {
   "cell_type": "code",
   "execution_count": 7,
   "id": "d993ae41-1f36-47b3-8273-ce478884beea",
   "metadata": {},
   "outputs": [],
   "source": [
    "# Load and preprocess the data\n",
    "transform = transforms.Compose([\n",
    "    transforms.ToTensor(),\n",
    "    transforms.Normalize((0.5,), (0.5,))\n",
    "])\n",
    "\n",
    "trainset = torchvision.datasets.MNIST(root='./data', train=True, download=True, transform=transform)\n",
    "trainloader = torch.utils.data.DataLoader(trainset, batch_size=32, shuffle=True)\n",
    "\n",
    "testset = torchvision.datasets.MNIST(root='./data', train=False, download=True, transform=transform)\n",
    "testloader = torch.utils.data.DataLoader(testset, batch_size=32, shuffle=False)"
   ]
  },
  {
   "cell_type": "code",
   "execution_count": 8,
   "id": "122ff25b-1612-403a-b629-115b828f5e0e",
   "metadata": {},
   "outputs": [],
   "source": [
    "# Initialize the model, loss function, and optimizer\n",
    "model = SimpleNN()\n",
    "criterion = nn.CrossEntropyLoss()\n",
    "optimizer = optim.Adam(model.parameters(), lr=0.001)\n"
   ]
  },
  {
   "cell_type": "code",
   "execution_count": 9,
   "id": "ff61df5f-0915-44dc-be70-6bb40be907cf",
   "metadata": {},
   "outputs": [
    {
     "name": "stdout",
     "output_type": "stream",
     "text": [
      "Epoch 1, Mini-batch 1000: Loss 0.472\n",
      "Epoch 2, Mini-batch 1000: Loss 0.199\n",
      "Epoch 3, Mini-batch 1000: Loss 0.147\n",
      "Epoch 4, Mini-batch 1000: Loss 0.118\n",
      "Epoch 5, Mini-batch 1000: Loss 0.106\n",
      "Epoch 6, Mini-batch 1000: Loss 0.095\n",
      "Epoch 7, Mini-batch 1000: Loss 0.085\n",
      "Epoch 8, Mini-batch 1000: Loss 0.073\n",
      "Epoch 9, Mini-batch 1000: Loss 0.066\n",
      "Epoch 10, Mini-batch 1000: Loss 0.063\n",
      "Finished Training\n"
     ]
    }
   ],
   "source": [
    "# Training the model\n",
    "for epoch in range(10):  # loop over the dataset multiple times\n",
    "    running_loss = 0.0\n",
    "    for i, data in enumerate(trainloader, 0):\n",
    "        inputs, labels = data\n",
    "        inputs = inputs.view(inputs.shape[0], -1)  # Flatten the input images\n",
    "        \n",
    "        # Zero the parameter gradients\n",
    "        optimizer.zero_grad()\n",
    "\n",
    "        # Forward + backward + optimize\n",
    "        outputs = model(inputs)\n",
    "        loss = criterion(outputs, labels)\n",
    "        loss.backward()\n",
    "        optimizer.step()\n",
    "\n",
    "        # Print statistics\n",
    "        running_loss += loss.item()\n",
    "        if i % 1000 == 999:  # Print every 1000 mini-batches\n",
    "            print(f'Epoch {epoch + 1}, Mini-batch {i + 1}: Loss {running_loss / 1000:.3f}')\n",
    "            running_loss = 0.0\n",
    "\n",
    "print('Finished Training')"
   ]
  },
  {
   "cell_type": "code",
   "execution_count": null,
   "id": "53a9893c-22b8-4b1a-8d3f-1f55632dd40e",
   "metadata": {},
   "outputs": [],
   "source": [
    "# Testing the model\n",
    "correct = 0\n",
    "total = 0\n",
    "with torch.no_grad():\n",
    "    for data in testloader:\n",
    "        images, labels = data\n",
    "        images = images.view(images.shape[0], -1)\n",
    "        outputs = model(images)\n",
    "        _, predicted = torch.max(outputs.data, 1)\n",
    "        total += labels.size(0)\n",
    "        correct += (predicted == labels).sum().item()\n",
    "\n",
    "print(f'Accuracy of the network on the 10000 test images: {100 * correct / total}%')\n"
   ]
  }
 ],
 "metadata": {
  "kernelspec": {
   "display_name": "Python 3 (ipykernel)",
   "language": "python",
   "name": "python3"
  },
  "language_info": {
   "codemirror_mode": {
    "name": "ipython",
    "version": 3
   },
   "file_extension": ".py",
   "mimetype": "text/x-python",
   "name": "python",
   "nbconvert_exporter": "python",
   "pygments_lexer": "ipython3",
   "version": "3.11.6"
  }
 },
 "nbformat": 4,
 "nbformat_minor": 5
}
